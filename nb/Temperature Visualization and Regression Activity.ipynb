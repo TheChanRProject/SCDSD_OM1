{
 "cells": [
  {
   "cell_type": "markdown",
   "metadata": {},
   "source": [
    "# Linear Regression Example: Solving for the Conversion from Celsius to Farenheit"
   ]
  },
  {
   "cell_type": "code",
   "execution_count": 12,
   "metadata": {},
   "outputs": [],
   "source": [
    " import numpy as np, pandas as pd, matplotlib.pyplot as plt\n",
    "from jupyterthemes import jtplot "
   ]
  },
  {
   "cell_type": "code",
   "execution_count": 17,
   "metadata": {},
   "outputs": [
    {
     "name": "stdout",
     "output_type": "stream",
     "text": [
      "/Users/rchatter/Desktop/DS/Python/SoCalDSD/SCDSD_OM1/data\n"
     ]
    }
   ],
   "source": [
    "cd SCDSD_OM1/data"
   ]
  },
  {
   "cell_type": "code",
   "execution_count": 18,
   "metadata": {},
   "outputs": [
    {
     "name": "stdout",
     "output_type": "stream",
     "text": [
      "sample_data.csv\r\n"
     ]
    }
   ],
   "source": [
    "ls"
   ]
  },
  {
   "cell_type": "code",
   "execution_count": 29,
   "metadata": {},
   "outputs": [
    {
     "data": {
      "text/html": [
       "<div>\n",
       "<style scoped>\n",
       "    .dataframe tbody tr th:only-of-type {\n",
       "        vertical-align: middle;\n",
       "    }\n",
       "\n",
       "    .dataframe tbody tr th {\n",
       "        vertical-align: top;\n",
       "    }\n",
       "\n",
       "    .dataframe thead th {\n",
       "        text-align: right;\n",
       "    }\n",
       "</style>\n",
       "<table border=\"1\" class=\"dataframe\">\n",
       "  <thead>\n",
       "    <tr style=\"text-align: right;\">\n",
       "      <th></th>\n",
       "      <th>rows</th>\n",
       "      <th>celsius</th>\n",
       "      <th>farenheit</th>\n",
       "    </tr>\n",
       "  </thead>\n",
       "  <tbody>\n",
       "    <tr>\n",
       "      <th>0</th>\n",
       "      <td>0</td>\n",
       "      <td>-50</td>\n",
       "      <td>-58.0</td>\n",
       "    </tr>\n",
       "    <tr>\n",
       "      <th>1</th>\n",
       "      <td>1</td>\n",
       "      <td>-40</td>\n",
       "      <td>-40.0</td>\n",
       "    </tr>\n",
       "    <tr>\n",
       "      <th>2</th>\n",
       "      <td>2</td>\n",
       "      <td>-30</td>\n",
       "      <td>-22.0</td>\n",
       "    </tr>\n",
       "    <tr>\n",
       "      <th>3</th>\n",
       "      <td>3</td>\n",
       "      <td>-20</td>\n",
       "      <td>-4.0</td>\n",
       "    </tr>\n",
       "    <tr>\n",
       "      <th>4</th>\n",
       "      <td>4</td>\n",
       "      <td>-10</td>\n",
       "      <td>14.0</td>\n",
       "    </tr>\n",
       "  </tbody>\n",
       "</table>\n",
       "</div>"
      ],
      "text/plain": [
       "   rows  celsius  farenheit\n",
       "0     0      -50      -58.0\n",
       "1     1      -40      -40.0\n",
       "2     2      -30      -22.0\n",
       "3     3      -20       -4.0\n",
       "4     4      -10       14.0"
      ]
     },
     "execution_count": 29,
     "metadata": {},
     "output_type": "execute_result"
    }
   ],
   "source": [
    "df = pd.read_csv('sample_data.csv') \n",
    "df.head()\n",
    "cols = list(df.columns)\n",
    "df.drop('Unnamed: 0', axis=1) \n",
    "df.columns = ['rows','celsius', 'farenheit'] \n",
    "df.head()"
   ]
  },
  {
   "cell_type": "code",
   "execution_count": 56,
   "metadata": {},
   "outputs": [],
   "source": [
    "jtplot.style(theme='monokai', context='notebook', grid=False, fscale=1.4, figsize=(12,8)) "
   ]
  },
  {
   "cell_type": "code",
   "execution_count": 57,
   "metadata": {},
   "outputs": [
    {
     "data": {
      "text/plain": [
       "Text(0,0.5,'Degrees (Farenheit)')"
      ]
     },
     "execution_count": 57,
     "metadata": {},
     "output_type": "execute_result"
    },
    {
     "data": {
      "image/png": "[encoded data removed]",
      "text/plain": [
       "<Figure size 864x576 with 1 Axes>"
      ]
     },
     "metadata": {},
     "output_type": "display_data"
    }
   ],
   "source": [
    "plt.scatter(df['celsius'], df['farenheit'], color='green') \n",
    "plt.xlabel('Degrees (Celsius)')\n",
    "plt.ylabel('Degrees (Farenheit)') "
   ]
  },
  {
   "cell_type": "code",
   "execution_count": null,
   "metadata": {},
   "outputs": [
    {
     "name": "stdout",
     "output_type": "stream",
     "text": [
      "1.8\n",
      "32.0\n"
     ]
    }
   ],
   "source": [
    "# setting up regression with numpy \n",
    "\n",
    "X = np.array(df['celsius'])\n",
    "Y = np.array(df['farenheit'])\n",
    "denom = X.dot(X) - X.mean() * X.sum() \n",
    "beta_1 = (X.dot(Y) - Y.mean()*X.sum()) / denom \n",
    "beta_0 = (Y.mean() * X.dot(X) - X.mean() * X.dot(Y)) / denom \n",
    "print(beta_1)\n",
    "print(beta_0) \n",
    "\n",
    "# model \n",
    "\n",
    "def model(x):\n",
    "    return beta_1*x + beta_0 \n",
    "\n",
    "plt.figure()\n",
    "plt.scatter(X, Y, color='green')\n",
    "plt.plot(X, model(X), 'r-') \n",
    "plt.title(\"Scatter Plot with Line of Best Fit\")\n",
    "plt.xlabel(\"Degrees (Celsius)\")\n",
    "plt.ylabel(\"Degrees (Farenheit)\")\n",
    "plt.savefig('temp-reg1.png')"
   ]
  },
  {
   "cell_type": "code",
   "execution_count": 48,
   "metadata": {},
   "outputs": [
    {
     "data": {
      "text/markdown": [
       "$ r^2 $ = 100.0%"
      ],
      "text/plain": [
       "<IPython.core.display.Markdown object>"
      ]
     },
     "metadata": {},
     "output_type": "display_data"
    }
   ],
   "source": [
    "# Getting our r-square value \n",
    "\n",
    "difference_one = Y - model(X) \n",
    "difference_two = Y - Y.mean() \n",
    "\n",
    "r_square = 1 - difference_one.dot(difference_one) / difference_two.dot(difference_two) \n",
    "\n",
    "from IPython.display import display, Markdown \n",
    "\n",
    "display(Markdown(f\"$ r^2 $ = {r_square*100}%\"))"
   ]
  }
 ],
 "metadata": {
  "kernelspec": {
   "display_name": "Python 3",
   "language": "python",
   "name": "python3"
  },
  "language_info": {
   "codemirror_mode": {
    "name": "ipython",
    "version": 3
   },
   "file_extension": ".py",
   "mimetype": "text/x-python",
   "name": "python",
   "nbconvert_exporter": "python",
   "pygments_lexer": "ipython3",
   "version": "3.6.8"
  },
  "nbTranslate": {
   "displayLangs": [
    "*"
   ],
   "hotkey": "alt-t",
   "langInMainMenu": true,
   "sourceLang": "en",
   "targetLang": "fr",
   "useGoogleTranslate": true
  }
 },
 "nbformat": 4,
 "nbformat_minor": 2
}
